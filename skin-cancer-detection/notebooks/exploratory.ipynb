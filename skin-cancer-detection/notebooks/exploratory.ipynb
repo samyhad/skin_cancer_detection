{
 "cells": [
  {
   "cell_type": "markdown",
   "metadata": {},
   "source": [
    "# Exploratory Data Analysis for Skin Cancer Detection\n",
    "\n",
    "In this notebook, we will perform exploratory data analysis (EDA) on the skin cancer dataset. The goal is to understand the data better, visualize important features, and prepare for further modeling."
   ]
  },
  {
   "cell_type": "code",
   "execution_count": 1,
   "metadata": {},
   "outputs": [],
   "source": [
    "import pandas as pd\n",
    "import numpy as np\n",
    "import matplotlib.pyplot as plt\n",
    "import seaborn as sns\n",
    "import os\n",
    "\n",
    "# Set the style of seaborn\n",
    "sns.set(style='whitegrid')"
   ]
  },
  {
   "cell_type": "markdown",
   "metadata": {},
   "source": [
    "## Load the Dataset\n",
    "\n",
    "We will load the dataset from the raw data directory."
   ]
  },
  {
   "cell_type": "code",
   "execution_count": 2,
   "metadata": {},
   "outputs": [],
   "source": [
    "data_path = '../data/01_raw/'  # Adjust the path as necessary\n",
    "files = os.listdir(data_path)\n",
    "files"
   ]
  },
  {
   "cell_type": "markdown",
   "metadata": {},
   "source": [
    "## Data Overview\n",
    "\n",
    "Let's take a look at the first few images and their labels."
   ]
  },
  {
   "cell_type": "code",
   "execution_count": 3,
   "metadata": {},
   "outputs": [],
   "source": [
    "import cv2\n",
    "\n",
    "def display_images(image_paths, labels, n=5):\n",
    "    plt.figure(figsize=(15, 5))\n",
    "    for i in range(n):\n",
    "        img = cv2.imread(image_paths[i])\n",
    "        plt.subplot(1, n, i + 1)\n",
    "        plt.imshow(cv2.cvtColor(img, cv2.COLOR_BGR2RGB))\n",
    "        plt.title(labels[i])\n",
    "        plt.axis('off')\n",
    "    plt.show()\n",
    "\n",
    "# Example usage (adjust labels accordingly)\n",
    "# display_images([data_path + f for f in files[:5]], ['Label1', 'Label2', 'Label3', 'Label4', 'Label5'])"
   ]
  },
  {
   "cell_type": "markdown",
   "metadata": {},
   "source": [
    "## Data Distribution\n",
    "\n",
    "We will analyze the distribution of classes in the dataset."
   ]
  },
  {
   "cell_type": "code",
   "execution_count": 4,
   "metadata": {},
   "outputs": [],
   "source": [
    "# Assuming labels are stored in a CSV file\n",
    "# labels_df = pd.read_csv('../data/01_raw/labels.csv')\n",
    "# sns.countplot(data=labels_df, x='label')\n",
    "# plt.title('Distribution of Skin Cancer Classes')\n",
    "# plt.show()"
   ]
  },
  {
   "cell_type": "markdown",
   "metadata": {},
   "source": [
    "## Conclusion\n",
    "\n",
    "In this notebook, we have performed initial exploratory data analysis on the skin cancer dataset. We visualized some images and analyzed the distribution of classes. Further analysis and preprocessing will be conducted in subsequent steps."
   ]
  }
 ],
 "metadata": {
  "kernelspec": {
   "display_name": "Python 3",
   "language": "python",
   "name": "python3"
  },
  "language_info": {
   "codemirror_mode": {
    "name": "ipython",
    "version": 3
   },
   "file_extension": ".py",
   "mimetype": "text/x-python",
   "name": "python",
   "nbconvert_exporter": "python",
   "pygments_lexer": "ipython3",
   "version": "3.8.5"
  }
 },
 "nbformat": 4,
 "nbformat_minor": 4
}