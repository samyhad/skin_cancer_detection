
{
 "cells": [
  {
   "cell_type": "markdown",
   "metadata": {},
   "source": [
    "# Classificação de Imagens de Câncer de Pele com Pré-Processamento e TensorFlow"
   ]
  },
  {
   "cell_type": "code",
   "execution_count": null,
   "metadata": {},
   "outputs": [],
   "source": [
    "# Bibliotecas
",
    "import os
",
    "import cv2
",
    "import numpy as np
",
    "import pandas as pd
",
    "import matplotlib.pyplot as plt
",
    "
",
    "from sklearn.model_selection import train_test_split
",
    "from sklearn.metrics import classification_report
",
    "from sklearn.base import BaseEstimator, TransformerMixin
",
    "from sklearn.pipeline import Pipeline
",
    "
",
    "from tensorflow.keras.models import Sequential
",
    "from tensorflow.keras.layers import Conv2D, MaxPooling2D, Flatten, Dense, Dropout
",
    "from tensorflow.keras.utils import to_categorical
",
    "from tensorflow.keras.callbacks import EarlyStopping
",
    "
",
    "# Visualização auxiliar
",
    "def show_images(img_list, titles=None, cmap='gray'):
",
    "    plt.figure(figsize=(15, 5))
",
    "    for i, img in enumerate(img_list):
",
    "        plt.subplot(1, len(img_list), i+1)
",
    "        plt.imshow(img, cmap=cmap)
",
    "        if titles:
",
    "            plt.title(titles[i])
",
    "        plt.axis('off')
",
    "    plt.show()"
   ]
  },
  {
   "cell_type": "code",
   "execution_count": null,
   "metadata": {},
   "outputs": [],
   "source": [
    "# Pré-processadores
",
    "class Resize(BaseEstimator, TransformerMixin):
",
    "    def __init__(self, size=(128, 128)):
",
    "        self.size = size
",
    "    def fit(self, X, y=None): return self
",
    "    def transform(self, X):
",
    "        return [cv2.resize(img, self.size) for img in X]
",
    "
",
    "class GaussianBlur(BaseEstimator, TransformerMixin):
",
    "    def __init__(self, ksize=(5, 5), sigma=0):
",
    "        self.ksize = ksize
",
    "        self.sigma = sigma
",
    "    def fit(self, X, y=None): return self
",
    "    def transform(self, X):
",
    "        return [cv2.GaussianBlur(img, self.ksize, self.sigma) for img in X]
",
    "
",
    "class CLAHE(BaseEstimator, TransformerMixin):
",
    "    def __init__(self, clip_limit=2.0, tile_grid_size=(8, 8)):
",
    "        self.clahe = cv2.createCLAHE(clipLimit=clip_limit, tileGridSize=tile_grid_size)
",
    "    def fit(self, X, y=None): return self
",
    "    def transform(self, X):
",
    "        return [self.clahe.apply(cv2.cvtColor(img, cv2.COLOR_BGR2GRAY)) for img in X]
",
    "
",
    "class OtsuThreshold(BaseEstimator, TransformerMixin):
",
    "    def fit(self, X, y=None): return self
",
    "    def transform(self, X):
",
    "        return [cv2.threshold(img, 0, 255, cv2.THRESH_BINARY + cv2.THRESH_OTSU)[1] for img in X]"
   ]
  },
  {
   "cell_type": "code",
   "execution_count": null,
   "metadata": {},
   "outputs": [],
   "source": [
    "# Função de carregamento
",
    "def load_images_from_folder(folder, filenames):
",
    "    images = []
",
    "    for fname in filenames:
",
    "        img = cv2.imread(os.path.join(folder, fname))
",
    "        if img is not None:
",
    "            images.append(img)
",
    "    return images"
   ]
  },
  {
   "cell_type": "code",
   "execution_count": null,
   "metadata": {},
   "outputs": [],
   "source": [
    "# Caminhos (ajustar conforme o local do dataset)
",
    "img_folder = "./images"
",
    "csv_path = "./labels.csv"
",
    "
",
    "# Carrega labels e imagens
",
    "df = pd.read_csv(csv_path)
",
    "X = load_images_from_folder(img_folder, df['image_id'] + '.jpg')
",
    "y = df['label'].values
",
    "
",
    "# Classes
",
    "classes = np.unique(y)
",
    "y_encoded = pd.factorize(y)[0]"
   ]
  },
  {
   "cell_type": "code",
   "execution_count": null,
   "metadata": {}, 
   "outputs": [],
   "source": [
    "# Define o modelo
",
    "def get_model(input_shape, num_classes):
",
    "    model = Sequential([
",
    "        Conv2D(32, (3, 3), activation='relu', input_shape=input_shape),
",
    "        MaxPooling2D(2, 2),
",
    "        Conv2D(64, (3, 3), activation='relu'),
",
    "        MaxPooling2D(2, 2),
",
    "        Flatten(),
",
    "        Dense(128, activation='relu'),
",
    "        Dropout(0.5),
",
    "        Dense(num_classes, activation='softmax')
",
    "    ])
",
    "    model.compile(optimizer='adam', loss='sparse_categorical_crossentropy', metrics=['accuracy'])
",
    "    return model"
   ]
  },
  {
   "cell_type": "code",
   "execution_count": null,
   "metadata": {}, 
   "outputs": [],
   "source": [
    "# Avaliação com diferentes pipelines
",
    "pipelines = {
",
    "    'resize_only': Pipeline([('resize', Resize())]),
",
    "    'resize_blur': Pipeline([('resize', Resize()), ('blur', GaussianBlur())]),
",
    "    'resize_clahe': Pipeline([('resize', Resize()), ('clahe', CLAHE())]),
",
    "    'resize_clahe_otsu': Pipeline([('resize', Resize()), ('clahe', CLAHE()), ('otsu', OtsuThreshold())])
",
    "}
",
    "
",
    "results = {}
",
    "
",
    "for name, pipe in pipelines.items():
",
    "    print(f"\n== Pipeline: {name} ==")
",
    "    X_proc = pipe.fit_transform(X)
",
    "    X_proc = np.array(X_proc)
",
    "    if len(X_proc.shape) == 3:
",
    "        X_proc = np.expand_dims(X_proc, -1)
",
    "    X_proc = X_proc / 255.0
",
    "
",
    "    X_train, X_test, y_train, y_test = train_test_split(X_proc, y_encoded, test_size=0.2, random_state=42)
",
    "    model = get_model(X_proc.shape[1:], len(classes))
",
    "    model.fit(X_train, y_train, epochs=5, batch_size=32, validation_split=0.2, verbose=0)
",
    "
",
    "    y_pred = np.argmax(model.predict(X_test), axis=1)
",
    "    report = classification_report(y_test, y_pred, target_names=classes, output_dict=True)
",
    "    results[name] = report
",
    "    print(classification_report(y_test, y_pred, target_names=classes))"
   ]
  }
 ],
 "metadata": {
  "kernelspec": {
   "display_name": "Python 3",
   "language": "python",
   "name": "python3"
  },
  "language_info": {
   "name": "python",
   "version": "3.8"
  }
 },
 "nbformat": 4,
 "nbformat_minor": 2
}
