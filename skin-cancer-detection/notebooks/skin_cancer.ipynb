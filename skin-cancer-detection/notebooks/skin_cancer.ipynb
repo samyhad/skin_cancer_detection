{
 "cells": [
  {
   "cell_type": "code",
   "execution_count": null,
   "id": "41c3d58f",
   "metadata": {},
   "outputs": [],
   "source": [
    "from flask import Flask, request, jsonify, render_template\n",
    "import tensorflow as tf\n",
    "import numpy as np\n",
    "import cv2\n",
    "from sklearn.pipeline import Pipeline\n",
    "import os\n",
    "from modules.preprocess import Resize, GaussianBlur, CLAHE_Color, Normalize, show_images\n",
    "from modules.heatmap import saliency_map, visualize_saliency\n",
    "import base64\n",
    "from io import BytesIO\n",
    "from tensorflow import keras\n",
    "\n",
    "model = keras.models.load_model('skin_cancer.keras')\n",
    "preprocess_pipeline = Pipeline([\n",
    "        ('resize', Resize((128, 128))),\n",
    "        ('blur', GaussianBlur()),\n",
    "        ('clahe', CLAHE_Color())\n",
    "    ])\n",
    "\n",
    "def preprocess_and_load_image(image_path):\n",
    "    try:\n",
    "        img = cv2.imread(image_path)\n",
    "        if img is None:\n",
    "            return None\n",
    "        img_rgb = cv2.cvtColor(img, cv2.COLOR_BGR2RGB)\n",
    "        processed_img = preprocess_pipeline.transform([img_rgb])[0]\n",
    "        return img_rgb, processed_img\n",
    "    except Exception as e:\n",
    "        print(f\"Erro ao pré-processar/carregar imagem: {e}\")\n",
    "        return None, None"
   ]
  },
  {
   "cell_type": "code",
   "execution_count": 19,
   "id": "dec89257",
   "metadata": {},
   "outputs": [],
   "source": [
    "file_path = f'../data/03_primary/ISIC_2024/images/ISIC_0087605.jpg' #'ISIC_0052003.jpg'\n",
    "original_image, processed_image = preprocess_and_load_image(file_path)\n",
    "\n"
   ]
  },
  {
   "cell_type": "code",
   "execution_count": 22,
   "id": "66aeb2df",
   "metadata": {},
   "outputs": [
    {
     "data": {
      "text/plain": [
       "(125, 125, 3)"
      ]
     },
     "execution_count": 22,
     "metadata": {},
     "output_type": "execute_result"
    }
   ],
   "source": [
    "original_image.shape"
   ]
  },
  {
   "cell_type": "code",
   "execution_count": 23,
   "id": "015eb803",
   "metadata": {},
   "outputs": [
    {
     "data": {
      "text/plain": [
       "(128, 128, 3)"
      ]
     },
     "execution_count": 23,
     "metadata": {},
     "output_type": "execute_result"
    }
   ],
   "source": [
    "processed_image.shape"
   ]
  },
  {
   "cell_type": "code",
   "execution_count": 11,
   "id": "3179290b",
   "metadata": {},
   "outputs": [
    {
     "data": {
      "text/plain": [
       "<Sequential name=sequential_19, built=True>"
      ]
     },
     "execution_count": 11,
     "metadata": {},
     "output_type": "execute_result"
    }
   ],
   "source": [
    "model"
   ]
  },
  {
   "cell_type": "code",
   "execution_count": 24,
   "id": "fa0f17f7",
   "metadata": {},
   "outputs": [
    {
     "name": "stderr",
     "output_type": "stream",
     "text": [
      "c:\\Users\\samir\\OneDrive\\Área de Trabalho\\projeto_pdi\\skin_cancer_detection\\.conda\\Lib\\site-packages\\sklearn\\pipeline.py:62: FutureWarning: This Pipeline instance is not fitted yet. Call 'fit' with appropriate arguments before using other methods such as transform, predict, etc. This will raise an error in 1.8 instead of the current warning.\n",
      "  warnings.warn(\n"
     ]
    },
    {
     "name": "stdout",
     "output_type": "stream",
     "text": [
      "\u001b[1m1/1\u001b[0m \u001b[32m━━━━━━━━━━━━━━━━━━━━\u001b[0m\u001b[37m\u001b[0m \u001b[1m0s\u001b[0m 244ms/step\n"
     ]
    }
   ],
   "source": [
    "file_path = f'../data/03_primary/ISIC_2024/images/ISIC_0087605.jpg' #'ISIC_0052003.jpg'\n",
    "original_image, processed_image = preprocess_and_load_image(file_path)\n",
    "\n",
    "prediction = model.predict(np.expand_dims(processed_image, axis=0))\n",
    "probability = prediction[0][0]\n",
    "class_label = \"maligno\" if probability > 0.5 else \"benigno\"\n",
    "\n",
    "# Gerar o mapa de saliência\n",
    "saliency = saliency_map(model, processed_image)\n",
    "\n",
    "# Visualizar o mapa de saliência sobre a imagem original\n",
    "saliency_overlayed = visualize_saliency(original_image, saliency)\n",
    "\n",
    "# Codificar a imagem com o mapa de saliência para base64\n",
    "_, img_encoded = cv2.imencode('.jpg', saliency_overlayed)\n",
    "base64_image = base64.b64encode(img_encoded).decode('utf-8')"
   ]
  },
  {
   "cell_type": "code",
   "execution_count": 28,
   "id": "9310a256",
   "metadata": {},
   "outputs": [],
   "source": [
    "def predict():\n",
    "    try:\n",
    "        file_path = f'../data/03_primary/ISIC_2024/images/ISIC_0087605.jpg' #'ISIC_0052003.jpg'\n",
    "        original_image, processed_image = preprocess_and_load_image(file_path)\n",
    "        \n",
    "        prediction = model.predict(np.expand_dims(processed_image, axis=0))\n",
    "        probability = prediction[0][0]\n",
    "        class_label = \"maligno\" if probability > 0.5 else \"benigno\"\n",
    "\n",
    "        # Gerar o mapa de saliência\n",
    "        saliency = saliency_map(model, processed_image)\n",
    "\n",
    "        # Visualizar o mapa de saliência sobre a imagem original\n",
    "        saliency_overlayed = visualize_saliency(original_image, saliency)\n",
    "\n",
    "        # Codificar a imagem com o mapa de saliência para base64\n",
    "        _, img_encoded = cv2.imencode('.jpg', saliency_overlayed)\n",
    "        base64_image = base64.b64encode(img_encoded).decode('utf-8')\n",
    "\n",
    "        return {'probability': float(probability), 'class': class_label, 'saliency_image':base64_image}\n",
    "    except Exception as e:\n",
    "        print(f\"Erro na previsão: {e}\")\n",
    "        return None"
   ]
  },
  {
   "cell_type": "code",
   "execution_count": 29,
   "id": "f08c9193",
   "metadata": {},
   "outputs": [
    {
     "name": "stdout",
     "output_type": "stream",
     "text": [
      "\u001b[1m1/1\u001b[0m \u001b[32m━━━━━━━━━━━━━━━━━━━━\u001b[0m\u001b[37m\u001b[0m \u001b[1m0s\u001b[0m 32ms/step\n"
     ]
    }
   ],
   "source": [
    "resp = predict()"
   ]
  },
  {
   "cell_type": "code",
   "execution_count": 30,
   "id": "5dde2b5a",
   "metadata": {},
   "outputs": [
    {
     "data": {
      "text/plain": [
       "{'probability': 0.5086302757263184,\n",
       " 'class': 'maligno',\n",
       " 'saliency_image': '/9j/4AAQSkZJRgABAQAAAQABAAD/2wBDAAIBAQEBAQIBAQECAgICAgQDAgICAgUEBAMEBgUGBgYFBgYGBwkIBgcJBwYGCAsICQoKCgoKBggLDAsKDAkKCgr/2wBDAQICAgICAgUDAwUKBwYHCgoKCgoKCgoKCgoKCgoKCgoKCgoKCgoKCgoKCgoKCgoKCgoKCgoKCgoKCgoKCgoKCgr/wAARCAB9AH0DASIAAhEBAxEB/8QAHwAAAQUBAQEBAQEAAAAAAAAAAAECAwQFBgcICQoL/8QAtRAAAgEDAwIEAwUFBAQAAAF9AQIDAAQRBRIhMUEGE1FhByJxFDKBkaEII0KxwRVS0fAkM2JyggkKFhcYGRolJicoKSo0NTY3ODk6Q0RFRkdISUpTVFVWV1hZWmNkZWZnaGlqc3R1dnd4eXqDhIWGh4iJipKTlJWWl5iZmqKjpKWmp6ipqrKztLW2t7i5usLDxMXGx8jJytLT1NXW19jZ2uHi4+Tl5ufo6erx8vP09fb3+Pn6/8QAHwEAAwEBAQEBAQEBAQAAAAAAAAECAwQFBgcICQoL/8QAtREAAgECBAQDBAcFBAQAAQJ3AAECAxEEBSExBhJBUQdhcRMiMoEIFEKRobHBCSMzUvAVYnLRChYkNOEl8RcYGRomJygpKjU2Nzg5OkNERUZHSElKU1RVVldYWVpjZGVmZ2hpanN0dXZ3eHl6goOEhYaHiImKkpOUlZaXmJmaoqOkpaanqKmqsrO0tba3uLm6wsPExcbHyMnK0tPU1dbX2Nna4uPk5ebn6Onq8vP09fb3+Pn6/9oADAMBAAIRAxEAPwD5YeGNNv8AC1D7Eg3j5VSnTJ8zbJPm/geo5oZPK2fwt8z1/VB8uOheR9ok/i+VEqSbY8v2tE+5Q6QJt2VHs2QfJ8296AJpv3O3938z1DcwRzQSRh1/+yqS6R0SOCP5mqPY6Ps+7s+Z6AHQnydqR/wou96c7yJ5fzq1NT77eZ8qt8v36LnG9Xf5/n/grMkjSCR7ppJI91R3Mpmt5IxH8zv8lTQkIrHFMhUOrO70+coTYEVv3f8AB8lWId+6PzEqunz/ALyrEG9D/rKQEdxbybm/d0yDluTylW0cTNIfLbdVe7AP/LP5VTiiMgIy7ujHZu+eoJLg27bGkzU9sjvZRv5m1t9KVRnJx3rQCzCkiWrf3vvffp0yF0zHI27ZTf3cSKhj+9TUTZ0k++/z1mAXiJ8u/wC9/sUPD93Z93ei1Gk3+kSUb3H7tD+831oBJcvslaT5vk+VHqv52+48yT7u/wCd6mmLnckw/wB+oZ0+fy8/L/fWpJH+c6j5D8v3qYLiJomxP9xPuYqub/fJ9kB+/wDJvqhrzy2Ngl+W+QtsVl7t3FdeGwVfFwnKC0irv0InUjTau92Xo7shWT9KsxqFC7zWHoF4dQabzP8Avt625Zy0PmDdu9K5ZwaNYyFmmeHcY/7lO2eXtkIqF0fymc/eqaZPOX+L5UqAHJP8rTeZ81Otk87iST7lRokhKx/e/v06ZP8ASGSP5VWgCTaUi+T5fK+ahUh/hNO2eTF5gkVtyf36hlIlwyx9qAJH/eXG8/d2bUqOZJCm+P8Av050RF/cCjzn8rp81aAQukcMbFP++6dvRHWSN/4Kb86Kzu+3dQkMD7n+6q/x0AFxP+7ePy/m3/PVO6m8m3kjjk/uVfZP3P7v7tY+rP8A6Exz+8fdspx3JkZNzrcaScSfMKXXvEZ1HTl0kXEsipKJgFc4BAI6dO/WuZmnkR2e7PzRO++uq+F/wo1j4iaFqPiBPE+l2EVqjM8d/chGbAzwD9cfWvfy2rjKdKrTopWkvevbbbr62PLx2KweEo+2xMuWKa18+mxD4cuPJTCfdZ2rfgvUdPLkNcRbamtvbNHJJtYsQi1taRrnnzq/+xXj4ijOEnGW60PQjLqjqIz8g/uvU3791Z6rWgSRkSONt2PuVdxshWP+L71cZ0K5Cj/Lv+bdvqRB+6aSST/ZqHfvPmfw76khcPAyP/BQSG/fF9xqPMmblOlNmdDKqSblV6mhZYkwyqaACZPOlXf823/0Co3P+rkn/jepETzpVg+61Fygm3Z+792tAK8ybom2Sffo58r7J/FTn8zZHJH8y/3Eo/eeb5kY+WL5qAJQkbjfj/7OsTWoMhX/AIt7NW0w3/8ALTa2ysi+kkuJJJH+78y0qf8AE1JkcJr8DW8m5kBWSUAhjzXuGo/tC2Xwh/Zut/Dfgqwkk1XXLNInvII9kdk2T846gScHBBUng9q8avPDuoa9NJdWwRmtZQWiMgBZSeAAev4U/wCJHgXxv4J8OQW2s3yfZFvBItqswJQkYDgehz2r9Ew2UZdjsJGE17jcZpN/FKF2tN9HZ22ulfc+RzzD4DMK9ChiKi0nflv8WlrPutVp12OYi1stO88wMkrxkBieST3rofBs2658+SdfkfbsrjtKmjku2gc5zHW54fhM1uEjn+be1fIY2lVp1ZRqb9fzPqlZx0PUdNTy3+3T/Ku+rU0xk/eJu+/WXps3k2EcEn8X8b1oQpltkn3dn/j9eObDj5jxNH8tCeXar+7Tc39zfUc3l7/Mjk+bZtp0Ko3MknzKlABvR3aST/WfwU9VkliRtwj+X7q0qfcU+ZuqVnTPFAEsM2yKQofmqR/3MTJHt3P9+o7ZPJZXkT5WTdTnmT7O0+z7z/x1RJVmeNN0kf3d+1Eptskabo/M/wB+nX43yx2ny7W+Z6E8vcryPt3/AH6AJZvliY+Z8q1g60/2azkfzPmdK3Zpkj2p5bbfvVkavHHNazfd3J8yPTpfxAl8J53qepX+lXqXlqyBwwaJz610n/Crvin8YtIfxdaTxaosb7XjLEy5HQKoHTA7VduPgv4o1XQYfGVpbQNZljuY3CqRIFdiME/3UPP4dQcdx+zX8TdB+DV3p9p4u1eaPSdYldb6XTb6PzrcAHuMNFnI+ZSGXOQQcV9/SqZxl+UVcRh4RnUpq8Yc27tdq6vbmSt11W1z5HN8bBw58E4yqxkk9OZpX95JXTukm0rq7VrngOp+D/FHhLUEfxLot1YSXCFbdbq2MRcKcHggdDW94etY4IFj8oLJ/HXqP7YPxa8DfFvW9D0H4eXV5c6X4WhlEGo3t3JK87SCPgGVmfCiMDLHkk/j5/4WsDnz5w+6vkZZhjszwtPF43D+wrVFeUObm5dbL3rRveKUrOKavZq6Z7+BqOtRjPWzva8eV2vpePNKzt05n6nV6bJvMP7v7ibf96rWz+A/NsqvZpslSrWSi/u0/gevLPRCZ45rNn/5afdqTZGif7Wyo5kjh8uPH3vm31Inzu0j0AEPlpuCf3KbK2MR7sbRj79SIkmxfL+7s/v0eV5qAH+EYoAtTHei+Z97Z89N35Rd/wA+35qHm2N9xdtRzPsgaP8AiqupPUj/ANHuUaeT5dqfJRCkjy+ZJ83+/UZ+TahSriJ8m/8Aufco6AQXfmJF5Hltuf8AjrO1pJJLP5N3z/K9atykZlHl/dqrP0aSOP8A2aIFTPPdbvdUtB9ihmkWLO9gznaTgjOPXBP5mqNvDHcS+ZNEu5Idz7zXV65psjqsBj/j+ese90i6t5sJEf3uxUSvW+uYmvGNOc20trs5lTjFtpDNL0SJ/wB4jom77iYrp9AsPJiYSR/L96q+jaS9umQi/wB3566SZI02wR/88dvyVw4qc3LlkaRjchRP3S/e3f3/APYpyRyOPMT+Cmw+Z/qP4vupVh0eEeX/AMBrlNSGZ43bzJE+5UiJs3Sf7H3HotvLe4j/AHfys9SXnlvL5iSfx7aAIf3aKsfzUolxxveoP3jyyfvPmpLm4lRwrTOcD1rQDXm+zp5fmfMrf+h1DN5ZZv3nyv8ALTpkfYr/AHf4kps0bvF5+Ny1mSQokfms7/x/+gVY2I6fP/G/yVD9mDyrH83zpuqxM8fzJ/d+WqAq70+by/upUc2zyuP4fmqT5x/qCq7n+f56Hfc7CRPup8lUUQPYw3NyuYh9z/vqopdIQOxeIfJ/HV6ERo0khk+6nyf79KkgSdUjRtv3t9Z88wIobONQuammfc8kj/KyP8n97ZTp5vnX/ZqFEeR2+829/v0FCr8gXzP4/mpC/LPJ8zN8qVODI6eXH93/AH6rXT/vl+TbsogSOhm2Mvmf73+5Tdmz5P4ajheTez05/PdPuff/AL9aAV3Pkytvp9zhthOwNt+bJpEtnTdv+ap540lfew257UAW3/1Wf4v7lSeRsVUxu3/fpBGsr/NUMjO0xQvwBisybj0QPFJOn8HypUaQpH/rDu2P89Ok/d2bOvXfUcP+qaXvsoKCN5Edsv8AM3/oFRvDst2n/iT5aWceRnZ2HFMDPJEu560AkQSbfLjp1s7pLJ/e/wDZ6bcSSRJHtf8A5aZpqLzJc5+bdiswHPD5+6d5P4NtN/5arB/sbqmg+dkaT5tq7hmmxKGXd6VoBN8m1Y/4kSq7vGj/AMW3fuepbx2zuz2xTLnoW/vDBrMBv7zbJ/D71Mnlwxr5nzUskSRkgeuabEwaPaVH3sUAIqb937v7/wDfqvNA8j4WT7tWLWZ7gbnP8WKryzESsFQDmgD/2Q=='}"
      ]
     },
     "execution_count": 30,
     "metadata": {},
     "output_type": "execute_result"
    }
   ],
   "source": [
    "resp"
   ]
  }
 ],
 "metadata": {
  "kernelspec": {
   "display_name": "Python 3",
   "language": "python",
   "name": "python3"
  },
  "language_info": {
   "codemirror_mode": {
    "name": "ipython",
    "version": 3
   },
   "file_extension": ".py",
   "mimetype": "text/x-python",
   "name": "python",
   "nbconvert_exporter": "python",
   "pygments_lexer": "ipython3",
   "version": "3.11.11"
  }
 },
 "nbformat": 4,
 "nbformat_minor": 5
}
